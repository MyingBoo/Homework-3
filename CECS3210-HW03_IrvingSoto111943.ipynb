{
 "cells": [
  {
   "cell_type": "markdown",
   "metadata": {},
   "source": [
    "# CECS 3210 - Week 3 Assignment\n",
    "\n",
    "## This week coding exercises will cover topics discussed in Chapter 3.\n",
    "\n",
    "### Due date: see BB\n",
    "### All solutions are reviewed, create unique solutions and discussions.\n",
    "#### Remember  to submit your solutions on time. \n",
    "\n",
    "<br>\n",
    "Name: Irving Soto\n",
    "<br>\n",
    "Email: soto_111943@students.pupr.edu\n",
    "<br>\n",
    "Student number: 111943"
   ]
  },
  {
   "cell_type": "code",
   "execution_count": null,
   "metadata": {},
   "outputs": [],
   "source": [
    "# Required import for some problems. Run this cell and proceed.\n",
    "import math"
   ]
  },
  {
   "cell_type": "markdown",
   "metadata": {},
   "source": [
    "## Discussion exercises  ( I )"
   ]
  },
  {
   "cell_type": "markdown",
   "metadata": {},
   "source": [
    "1. Show the result of evaluating each expression. Be sure that the value is in the proper form to indicate its type (int or float). If the expression is illegal, explain why. Also, try to predict the result of the equation."
   ]
  },
  {
   "cell_type": "code",
   "execution_count": 2,
   "metadata": {
    "scrolled": true
   },
   "outputs": [
    {
     "output_type": "stream",
     "name": "stdout",
     "text": [
      "Case a: 7.0\n7.0\n"
     ]
    }
   ],
   "source": [
    "print(f'Case a: {5.1 // 10.0 + 3.5 * 2}')\n",
    "# Add explanation *if necessary:\n",
    "print('7.0')"
   ]
  },
  {
   "cell_type": "code",
   "execution_count": 4,
   "metadata": {},
   "outputs": [
    {
     "output_type": "stream",
     "name": "stdout",
     "text": [
      "Case b: 8\n8\n"
     ]
    }
   ],
   "source": [
    "print(f'Case b: {109 % 8 + 6 // 2}')\n",
    "# Add explanation *if necessary:\n",
    "print('8')"
   ]
  },
  {
   "cell_type": "code",
   "execution_count": 6,
   "metadata": {},
   "outputs": [
    {
     "output_type": "stream",
     "name": "stdout",
     "text": [
      "Case c: 16\n16\n"
     ]
    }
   ],
   "source": [
    "print(f'Case c: {abs(10 - 20 // 3) ** 2}')\n",
    "# Add explanation *if necessary:\n",
    "print('16')"
   ]
  },
  {
   "cell_type": "code",
   "execution_count": 9,
   "metadata": {},
   "outputs": [
    {
     "output_type": "error",
     "ename": "NameError",
     "evalue": "name 'sqrt' is not defined",
     "traceback": [
      "\u001b[1;31m---------------------------------------------------------------------------\u001b[0m",
      "\u001b[1;31mNameError\u001b[0m                                 Traceback (most recent call last)",
      "\u001b[1;32m<ipython-input-9-4fe13aa257b9>\u001b[0m in \u001b[0;36m<module>\u001b[1;34m\u001b[0m\n\u001b[1;32m----> 1\u001b[1;33m \u001b[0mprint\u001b[0m\u001b[1;33m(\u001b[0m\u001b[1;34mf'Case d: {sqrt(9 - 3) + 7.20 % 10 * 20}'\u001b[0m\u001b[1;33m)\u001b[0m\u001b[1;33m\u001b[0m\u001b[1;33m\u001b[0m\u001b[0m\n\u001b[0m\u001b[0;32m      2\u001b[0m \u001b[1;31m# Add explanation *if necessary: It is not valid because sqrt() is a function from the math library, it needs to be written math.sqrt(9 - 3) to work.\u001b[0m\u001b[1;33m\u001b[0m\u001b[1;33m\u001b[0m\u001b[1;33m\u001b[0m\u001b[0m\n\u001b[0;32m      3\u001b[0m \u001b[1;31m# print('')\u001b[0m\u001b[1;33m\u001b[0m\u001b[1;33m\u001b[0m\u001b[1;33m\u001b[0m\u001b[0m\n",
      "\u001b[1;31mNameError\u001b[0m: name 'sqrt' is not defined"
     ]
    }
   ],
   "source": [
    "print(f'Case d: {sqrt(9 - 3) + 7.20 % 10 * 20}')\n",
    "# Add explanation *if necessary: It is not valid because sqrt() is a function from the math library, it needs to be written math.sqrt(9 - 3) to work.\n",
    "# print('')"
   ]
  },
  {
   "cell_type": "code",
   "execution_count": 11,
   "metadata": {},
   "outputs": [
    {
     "output_type": "stream",
     "name": "stdout",
     "text": [
      "Case e: 50\n50\n"
     ]
    }
   ],
   "source": [
    "print(f'Case e: {10 * 10 // 2 + 20 % 2}')\n",
    "# Add explanation *if necessary:\n",
    "print('50')"
   ]
  },
  {
   "cell_type": "code",
   "execution_count": 13,
   "metadata": {
    "scrolled": true
   },
   "outputs": [
    {
     "output_type": "stream",
     "name": "stdout",
     "text": [
      "Case f: 5.0\n5.0\n"
     ]
    }
   ],
   "source": [
    "print(f'Case f: {100 ** .5 / 2}')\n",
    "# Add explanation *if necessary:\n",
    "print('5.0')"
   ]
  },
  {
   "cell_type": "code",
   "execution_count": 15,
   "metadata": {
    "scrolled": true
   },
   "outputs": [
    {
     "output_type": "stream",
     "name": "stdout",
     "text": [
      "Case g: 5\n5\n"
     ]
    }
   ],
   "source": [
    "print(f'Case g: {int(100 ** .5 / 2)}')\n",
    "# Add explanation *if necessary:\n",
    "print('5')"
   ]
  },
  {
   "cell_type": "markdown",
   "metadata": {},
   "source": [
    "2. Translate each of the following mathematical expressions into an equivalent Python expression. You may assume that the math library has been imported (via import math)."
   ]
  },
  {
   "cell_type": "markdown",
   "metadata": {},
   "source": [
    "A: \n",
    "<br>$$(3.87 * 4)(5)$$"
   ]
  },
  {
   "cell_type": "code",
   "execution_count": null,
   "metadata": {},
   "outputs": [],
   "source": [
    "# Replace None with your mathematical expression equivalent\n",
    "a = (3.87 * 4) * 5"
   ]
  },
  {
   "cell_type": "markdown",
   "metadata": {},
   "source": [
    "B: \n",
    "<br>$$\\frac{n^5 (n+1)}{2.35}$$"
   ]
  },
  {
   "cell_type": "code",
   "execution_count": null,
   "metadata": {},
   "outputs": [],
   "source": [
    "# Replace None with your mathematical expression equivalent\n",
    "b = (n ** 5) * (n + 1)) / 2.35"
   ]
  },
  {
   "cell_type": "markdown",
   "metadata": {},
   "source": [
    "C: \n",
    "<br>$$52\\pi r^2$$"
   ]
  },
  {
   "cell_type": "code",
   "execution_count": null,
   "metadata": {},
   "outputs": [],
   "source": [
    "# Replace None with your mathematical expression equivalent\n",
    "c = 52 * math.pi * (r ** 2)"
   ]
  },
  {
   "cell_type": "markdown",
   "metadata": {},
   "source": [
    "D: \n",
    "<br>$$\\sqrt[4]{r(\\cos\\alpha)^2 + r(\\sin\\beta)^4}$$"
   ]
  },
  {
   "cell_type": "code",
   "execution_count": null,
   "metadata": {},
   "outputs": [],
   "source": [
    "# Replace None with your mathematical expression equivalent\n",
    "d = (r * (math.cos * a) ** 2) + r * (math.sin * b) ** 4)) ** (1/4)"
   ]
  },
  {
   "cell_type": "markdown",
   "metadata": {},
   "source": [
    "E: \n",
    "<br>$$\\frac{y_2-y_1}{x_2-x_1}$$"
   ]
  },
  {
   "cell_type": "code",
   "execution_count": null,
   "metadata": {},
   "outputs": [],
   "source": [
    "# Replace None with your mathematical expression equivalent\n",
    "e = (y2 - y1) / (x2 - x1)"
   ]
  },
  {
   "cell_type": "markdown",
   "metadata": {},
   "source": [
    "4. Show the output that would be generated by each of the following program fragments. What can you notice? (Code at exercise 4 in Discussion section of Chapter 3)"
   ]
  },
  {
   "cell_type": "code",
   "execution_count": 16,
   "metadata": {},
   "outputs": [
    {
     "output_type": "stream",
     "name": "stdout",
     "text": [
      "This code print a list of 1-10 squared\n1\n4\n9\n16\n25\n36\n49\n64\n81\n100\n"
     ]
    }
   ],
   "source": [
    "# Case a\n",
    "def main():\n",
    "    print('This code print a list of 1-10 squared')\n",
    "    for i in range (1, 11):\n",
    "        print(i * i)\n",
    "\n",
    "main()"
   ]
  },
  {
   "cell_type": "code",
   "execution_count": 32,
   "metadata": {},
   "outputs": [
    {
     "output_type": "stream",
     "name": "stdout",
     "text": [
      "This code prints a list of odd number from 1-9 that is multiplied by cube\nAt the end it prints what variable i is.\n1 : 1\n3 : 27\n5 : 125\n7 : 343\n9 : 729\n9\n"
     ]
    }
   ],
   "source": [
    "# Case b\n",
    "def main():\n",
    "   print('This code prints a list of odd number from 1-9 that is multiplied by cube')\n",
    "   print('At the end it prints what variable i is.')\n",
    "   for i in [1, 3, 5, 7, 9]:\n",
    "       print(i, ':', i ** 3)\n",
    "   print(i)\n",
    "\n",
    "main()"
   ]
  },
  {
   "cell_type": "code",
   "execution_count": 37,
   "metadata": {},
   "outputs": [
    {
     "output_type": "stream",
     "name": "stdout",
     "text": [
      "This code prints a list from 0-10 that increments by 2.\nThe first number is the number put on j in the instant and the other is the sum of x and y that is 12.\n012\n212\n412\n612\n812\ndone\n"
     ]
    }
   ],
   "source": [
    "# Case c\n",
    "def main():\n",
    "    print('This code prints a list from 0-10 that increments by 2.') \n",
    "    print('The first number is the number put on j in the instant and the other is the sum of x and y that is 12.')\n",
    "    x = 2\n",
    "    y = 10\n",
    "    for j in range (0, y, x):\n",
    "        print(j, end='')\n",
    "        print(x + y)\n",
    "    print('done')\n",
    "\n",
    "main()"
   ]
  },
  {
   "cell_type": "code",
   "execution_count": 43,
   "metadata": {},
   "outputs": [
    {
     "output_type": "stream",
     "name": "stdout",
     "text": [
      "This code prints a list of 1-10 in a loop\nThen, after the end of loop, it prints ans\n1\n2\n3\n4\n5\n6\n7\n8\n9\n10\n385\n"
     ]
    }
   ],
   "source": [
    "# Case d\n",
    "def main():\n",
    "    print('This code prints a list of 1-10 in a loop')\n",
    "    print('Then, after the end of loop, it prints ans')\n",
    "    ans = 0\n",
    "    for i in range(1, 11):\n",
    "        ans = ans + i * i\n",
    "        print(i)\n",
    "    print(ans)\n",
    "\n",
    "main()"
   ]
  },
  {
   "cell_type": "markdown",
   "metadata": {},
   "source": [
    "FINDINGS: REPLACE WITH YOUR OWN FINDINGS"
   ]
  },
  {
   "cell_type": "markdown",
   "metadata": {},
   "source": [
    "5. What do you think will happen if you use a negative number as the second parameter in the round function? For example, what should be the result of round (192109.125, -1)? Explain the rationale for your answer.<br><br>After you've written your answer, consult the Python documentation or try out some examples to see what Python actually does in this case. Explain your findings in the documentation with this case."
   ]
  },
  {
   "cell_type": "markdown",
   "metadata": {},
   "source": [
    "### round(192109.125, -1):"
   ]
  },
  {
   "cell_type": "markdown",
   "metadata": {},
   "source": [
    "\n",
    "Since it's negative, depending on what the negative number is, the round of the number will roll to the left, shorting your answer. In this case is -1, so it would roll one to the left and be 192110.0."
   ]
  },
  {
   "cell_type": "markdown",
   "metadata": {},
   "source": [
    "### Python documentation findings with this case:"
   ]
  },
  {
   "cell_type": "markdown",
   "metadata": {},
   "source": [
    "round(192109.125, ndigits= None)  \n",
    "  answer= 192109  \n",
    "  This is because the second number on function is the precision of the round. Since it's round(number, ndigits)."
   ]
  },
  {
   "cell_type": "markdown",
   "metadata": {},
   "source": [
    "<br>6. What do you think will happen when the operands to the integer division or remainder operations are negative? Consider each of the following cases and try to predict the result. Then try them out in Python. <br><br>Hint: Recall the magic formula a = (a//b)(b)+(a%b).<br><br>Place your prediction before or use the magic formula. This is for you to test your knowledge in this topic. If you get wrong answers, review the equation and rules. Explain why you had a wrong prediction."
   ]
  },
  {
   "cell_type": "markdown",
   "metadata": {},
   "source": [
    "#### Case A prediction: replace with your prediction before executing the code fragment. "
   ]
  },
  {
   "cell_type": "markdown",
   "metadata": {},
   "source": [
    "prediction: -8\n",
    "<br>(Once you place your prediction, press Shift + Enter)"
   ]
  },
  {
   "cell_type": "code",
   "execution_count": 44,
   "metadata": {
    "scrolled": false
   },
   "outputs": [
    {
     "output_type": "stream",
     "name": "stdout",
     "text": [
      "Case a: -8\n"
     ]
    }
   ],
   "source": [
    "print(f'Case a: {-24 // 3}')"
   ]
  },
  {
   "cell_type": "markdown",
   "metadata": {},
   "source": [
    "#### Case B prediction: replace with your prediction before executing the code fragment. "
   ]
  },
  {
   "cell_type": "markdown",
   "metadata": {},
   "source": [
    "prediction: 0"
   ]
  },
  {
   "cell_type": "code",
   "execution_count": 45,
   "metadata": {
    "scrolled": false
   },
   "outputs": [
    {
     "output_type": "stream",
     "name": "stdout",
     "text": [
      "Case b: 0\n"
     ]
    }
   ],
   "source": [
    "print(f'Case b: {-24 % 3}')"
   ]
  },
  {
   "cell_type": "markdown",
   "metadata": {},
   "source": [
    "#### Case C prediction: replace with your prediction before executing the code fragment. "
   ]
  },
  {
   "cell_type": "markdown",
   "metadata": {},
   "source": [
    "prediction: -8"
   ]
  },
  {
   "cell_type": "code",
   "execution_count": 46,
   "metadata": {
    "scrolled": false
   },
   "outputs": [
    {
     "output_type": "stream",
     "name": "stdout",
     "text": [
      "Case c: -8\n"
     ]
    }
   ],
   "source": [
    "print(f'Case c: {24 // -3}')"
   ]
  },
  {
   "cell_type": "markdown",
   "metadata": {},
   "source": [
    "#### Case D prediction: replace with your prediction before executing the code fragment. "
   ]
  },
  {
   "cell_type": "markdown",
   "metadata": {},
   "source": [
    "prediction: 0"
   ]
  },
  {
   "cell_type": "code",
   "execution_count": 47,
   "metadata": {
    "scrolled": true
   },
   "outputs": [
    {
     "output_type": "stream",
     "name": "stdout",
     "text": [
      "Case d: 0\n"
     ]
    }
   ],
   "source": [
    "print(f'Case d: {24 % -3}')"
   ]
  },
  {
   "cell_type": "markdown",
   "metadata": {},
   "source": [
    "#### Case E prediction: replace with your prediction before executing the code fragment. "
   ]
  },
  {
   "cell_type": "markdown",
   "metadata": {},
   "source": [
    "prediction: 8"
   ]
  },
  {
   "cell_type": "code",
   "execution_count": 48,
   "metadata": {
    "scrolled": true
   },
   "outputs": [
    {
     "output_type": "stream",
     "name": "stdout",
     "text": [
      "Case e: 8\n"
     ]
    }
   ],
   "source": [
    "print(f'Case e: {-24 // -3}')"
   ]
  },
  {
   "cell_type": "markdown",
   "metadata": {},
   "source": [
    "***\n",
    "## Coding exercises  ( II )"
   ]
  },
  {
   "cell_type": "markdown",
   "metadata": {},
   "source": [
    "### Coding exercise \\#C1\n",
    "\n",
    "Write a program that prints all the divisors of the entered integer number.\n",
    "<br>\n",
    "Ex:\n",
    "\n",
    "How many numbers are going the be evaluated? 3\n",
    "<br><br>\n",
    "Please choose a integer number to divide: 100\n",
    "<br><br>\n",
    "The numbers that can divide 100 are the following:<br>\n",
    "1 2 4 5 10 20 25 50 100 \n",
    "<br><br>\n",
    "Please choose a integer number to divide: 6\n",
    "<br><br>\n",
    "The numbers that can divide 6 are the following:<br>\n",
    "1 2 3 6 \n",
    "<br><br>\n",
    "Please choose a integer number to divide: 19283<br>\n",
    "<br>\n",
    "The numbers that can divide 19283 are the following:<br>\n",
    "1 11 1753 19283 "
   ]
  },
  {
   "cell_type": "code",
   "execution_count": 67,
   "metadata": {
    "tags": []
   },
   "outputs": [
    {
     "output_type": "stream",
     "name": "stdout",
     "text": [
      "\n",
      "\n",
      "The numbers that can divide 100 are the following:\n",
      "1 2 4 5 10 20 25 50 100 \n",
      "\n",
      "\n",
      "\n",
      "The numbers that can divide 6 are the following:\n",
      "1 2 3 6 \n",
      "\n",
      "\n",
      "\n",
      "The numbers that can divide 19283 are the following:\n",
      "1 11 1753 19283 \n",
      "\n"
     ]
    }
   ],
   "source": [
    "def main():\n",
    "    user = int(input('How many numbers are going the be evaluated?'))\n",
    "    \n",
    "    for x in range(0, user):\n",
    "        num = int(input('Please choose a integer number to divide:'))\n",
    "\n",
    "        print(f'\\n\\nThe numbers that can divide {num} are the following:')\n",
    "\n",
    "        for i in range(1, num + 1):\n",
    "            if num % i == 0 :\n",
    "                print(i, end = ' ')\n",
    "\n",
    "        print('\\n')\n",
    "\n",
    "main()"
   ]
  },
  {
   "cell_type": "markdown",
   "metadata": {},
   "source": [
    "***\n",
    "### Coding exercise \\#C2\n",
    "\n",
    "Write a program that computes the molecular weight of a carbohydrate (in grams per mole) based on the number of hydrogen, carbon, and oxygen atoms in the molecule. The program should prompt the user to enter the number of hydrogen atoms, the number of carbon atoms, and the number of oxygen atoms. The program then prints the total combined molecular weight of all the atoms based on these individual atom weights:\n",
    "<br>\n",
    "Ex:\n",
    "\n",
    "For example, the molecular weight of water $$(H20) = 2 (1.00794) + 15.9994 = 18.01528$$\n",
    "\n",
    "Another example, the molecular weight of water $$(H5C5C9) = 5 (1.00794) + 4(12.0107) + 9(15.9994) = 197.07709999999997$$<br>Ex1:\n",
    "\n",
    "<code>How many Hydrogen atoms? 5\n",
    "How many Carbon atoms? 4\n",
    "How many Oxygen atoms? 9\n",
    "The total combined molecular weight is 197.07709999999997\n",
    "</code>\n",
    "<br>\n",
    "Ex2:\n",
    "\n",
    "<code>How many Hydrogen atoms? 3\n",
    "How many Carbon atoms? 8\n",
    "How many Oxygen atoms? 4\n",
    "The total combined molecular weight is 163.10702\n",
    "</code>"
   ]
  },
  {
   "cell_type": "code",
   "execution_count": 68,
   "metadata": {},
   "outputs": [
    {
     "output_type": "stream",
     "name": "stdout",
     "text": [
      "The total combined molecular weight is 197.07709999999997\n"
     ]
    }
   ],
   "source": [
    "def main():\n",
    "    HN = float(input('How many Hydrogen atoms? '))\n",
    "    CA= float(input('How many Carbon atoms? '))\n",
    "    OX= float(input('How many Oxygen atoms? '))\n",
    "\n",
    "    mol_comb = (HN * 1.00794) + (CA * 12.0107) + (OX * 15.9994)\n",
    "    print(f'The total combined molecular weight is {mol_comb}')\n",
    "    \n",
    "main()"
   ]
  },
  {
   "cell_type": "markdown",
   "metadata": {},
   "source": [
    "***\n",
    "### Coding exercise \\#C3\n",
    "\n",
    "The Gregorian epact is the number of days between January 1st and the previous new moon. This value is used to figure out the date of Easter. It is calculated by these formulas (using int arithmetic):\n",
    "<br>$$C= year//100$$ $$epact= (8+(C//4)- C+((80+13)//25)+11(year\\%19))\\%30$$\n",
    "<br>\n",
    "Write a program that prompts the user for a 4-digit year and then outputs\n",
    "the value of the epact.<br><br>\n",
    "Ex1:<br>\n",
    "<code>What is the year to utilize in the calculations? (ex. 2001) 2020\n",
    "The Gregorian epact calculation is 5</code><br>Ex2:<br><code>What is the year to utilize in the calculations? (ex. 2001) 1995\n",
    "The Gregorian epact calculation is 29</code>"
   ]
  },
  {
   "cell_type": "code",
   "execution_count": 85,
   "metadata": {},
   "outputs": [
    {
     "output_type": "stream",
     "name": "stdout",
     "text": [
      "The Gregorian epact calculation is 26\n"
     ]
    }
   ],
   "source": [
    "def main():\n",
    "   year = int(input('What is the year to utilize in the calculations? (ex. 2001)'))\n",
    "   C = year // 100\n",
    "   ep = (8 + (C // 4) - C + ((80 + 13) // 25) + (11 * (year % 19))) % 30\n",
    "\n",
    "   print(f'The Gregorian epact calculation is {ep}')\n",
    "    \n",
    "main()"
   ]
  },
  {
   "cell_type": "markdown",
   "metadata": {},
   "source": [
    "***\n",
    "### Coding exercise \\#C4\n",
    "\n",
    "You have seen that the math library contains a function that computes the square root of numbers. In this exercise, you are to write your own algorithm for computing square roots. One way to solve this problem is to use a guess-and-check approach. You first guess what the square root might be, and then see how close your guess is. You can use this information to make another guess and continue guessing until you have found the square root (or a close approximation to it). One particularly good way of making guesses is to use Newton's method. Suppose x is the number we want the root of, and guess is the current guessed answer. The guess can be improved by using computing the next guess as:<br>\n",
    "<br>Write a program that implements Newton's method. The program should prompt the user for the value to find the square root of (x) and the number of times to improve the guess. Starting with a guess value of x/2, your program should loop the specified number of times applying Newton's method and report the final value of guess. You should subtract your estimate from the value of math.sqrt (x). Also, subtract the estimate from the Newton's method estimation with math.sqrt (x) to show how close it is.<br><br>Ex1:\n",
    "\n",
    "<code>What is the number to which the square root is going to be estimated? 25\n",
    "How many times is the Newton's method going to be used? 10\n",
    "What is your guess? 7\n",
    "\\*\\*\\*\\*\\*\\*\\*\\*\\*\\*\\*\\*\\*\\*\\*\\*\\*\\*\\*\\*\\*\\*\\*\\*\\*\\*\\*\\*\\*\\*\\*\\*\\*\\*\\*\\*\\*\\*\\*\\*\n",
    "\n",
    "After 10 Newton's iterations:\n",
    "\tThe square root calculated is 5.0\n",
    "\tThe difference between the root and your guess is: -2.0\n",
    "\tThe difference between the root and your guess with the 10 iterations is: 0.0</code>\n",
    "\n",
    "Ex2:<br><code>What is the number to which the square root is going to be estimated? 50\n",
    "How many times is the Newton's method going to be used? 10\n",
    "What is your guess? 8\n",
    "\\*\\*\\*\\*\\*\\*\\*\\*\\*\\*\\*\\*\\*\\*\\*\\*\\*\\*\\*\\*\\*\\*\\*\\*\\*\\*\\*\\*\\*\\*\\*\\*\\*\\*\\*\\*\\*\\*\\*\\*\n",
    "\n",
    "After 10 Newton's iterations:\n",
    "\tThe square root calculated is 7.0710678118654755\n",
    "\tThe difference between the root and your guess is: -0.9289321881345245\n",
    "\tThe difference between the root and your guess with the 10 iterations is: 0.0</code>\n",
    "\n",
    "Ex3:<br><code>What is the number to which the square root is going to be estimated? 4\n",
    "How many times is the Newton's method going to be used? 1\n",
    "What is your guess? 3\n",
    "\\*\\*\\*\\*\\*\\*\\*\\*\\*\\*\\*\\*\\*\\*\\*\\*\\*\\*\\*\\*\\*\\*\\*\\*\\*\\*\\*\\*\\*\\*\\*\\*\\*\\*\\*\\*\\*\\*\\*\\*\n",
    "\n",
    "After 1 Newton's iterations:\n",
    "\tThe square root calculated is 2.1666666666666665\n",
    "\tThe difference between the root and your guess is: -1.0\n",
    "\tThe difference between the root and your guess with the 1 iterations is: -0.16666666666666652</code>"
   ]
  },
  {
   "cell_type": "code",
   "execution_count": 97,
   "metadata": {},
   "outputs": [
    {
     "output_type": "stream",
     "name": "stdout",
     "text": [
      "After 10 Newton's iterations:\n\nThe square root calculated is 5.0\nThe difference between the root and your guess is: 2.0\nThe difference between the root and your guess with the 8 iterations is: 0.0\n"
     ]
    }
   ],
   "source": [
    "import math\n",
    "def main():\n",
    "    num = float(input('What is the number to wich the square root id going to be estimated?'))\n",
    "    newton_meth = int(input('How many times is the Newtons method going to be used?'))\n",
    "    in_guess = int(input('What is your guess?'))\n",
    "\n",
    "    guess = 0.5 * in_guess\n",
    "\n",
    "    x = 1\n",
    "    for x in range(newton_meth):\n",
    "        guess = 0.5 * (guess + num / guess)\n",
    "\n",
    "    print(\"After 10 Newton's iterations:\\n\")\n",
    "    print(f\"The square root calculated is {guess}\")\n",
    "    print(f\"The difference between the root and your guess is: {abs(in_guess - guess)}\")\n",
    "    print(f\"The difference between the root and your guess with the {x + 1} iterations is: {math.sqrt(num) - guess}\")\n",
    "\n",
    "main()"
   ]
  },
  {
   "cell_type": "code",
   "execution_count": null,
   "metadata": {},
   "outputs": [],
   "source": []
  }
 ],
 "metadata": {
  "hide_input": false,
  "kernelspec": {
   "display_name": "Python 3",
   "language": "python",
   "name": "python3"
  },
  "language_info": {
   "codemirror_mode": {
    "name": "ipython",
    "version": 3
   },
   "file_extension": ".py",
   "mimetype": "text/x-python",
   "name": "python",
   "nbconvert_exporter": "python",
   "pygments_lexer": "ipython3",
   "version": "3.9.0-final"
  }
 },
 "nbformat": 4,
 "nbformat_minor": 4
}